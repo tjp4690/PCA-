{
  "nbformat": 4,
  "nbformat_minor": 0,
  "metadata": {
    "colab": {
      "provenance": []
    },
    "kernelspec": {
      "name": "python3",
      "display_name": "Python 3"
    },
    "language_info": {
      "name": "python"
    }
  },
  "cells": [
    {
      "cell_type": "markdown",
      "source": [
        "# Question 1: What is K-Nearest Neighbors (KNN) and how does it work in both classification and regression problems?\n",
        "\n",
        "K-Nearest Neighbors (KNN)\n",
        "\n",
        "KNN is a supervised machine learning algorithm used for classification and regression tasks. It is called a “lazy learner” because it does not build an explicit model during training; instead, it makes predictions only when new data is given.\n",
        "\n",
        "The key idea is:\n",
        "➡️ “A data point will likely belong to the same class (or have a similar value) as its nearest neighbors.”\n",
        "\n",
        "- How KNN Works\n",
        "\n",
        "Choose the number of neighbors k.\n",
        "\n",
        "Calculate the distance (commonly Euclidean distance) between the new data point and all points in the dataset.\n",
        "\n",
        "Identify the k nearest neighbors.\n",
        "\n",
        "Make a prediction:\n",
        "\n",
        "For classification → use majority voting among the k neighbors.\n",
        "\n",
        "For regression → use the average (or weighted average) of the k neighbors’ values.\n",
        "\n",
        "- KNN in Classification\n",
        "\n",
        "Example: Predicting whether a fruit is an apple or orange based on weight & color.\n",
        "\n",
        "Suppose k = 5.\n",
        "\n",
        "Find the 5 nearest neighbors of the new fruit.\n",
        "\n",
        "If 3 are “apples” and 2 are “oranges,” the algorithm predicts apple (majority class).\n",
        "\n",
        "👉 KNN works best when decision boundaries are non-linear and irregular.\n",
        "\n",
        "- KNN in Regression\n",
        "\n",
        "Example: Predicting the price of a house based on its size & location.\n",
        "\n",
        "Suppose k = 4.\n",
        "\n",
        "Find the 4 nearest houses.\n",
        "\n",
        "Take the average price of those houses.\n",
        "\n",
        "Assign that as the predicted price.\n",
        "\n",
        "👉 In regression, instead of voting, KNN takes the mean (or weighted mean, giving closer neighbors more influence).\n"
      ],
      "metadata": {
        "id": "G69IRUhxTBmQ"
      }
    },
    {
      "cell_type": "markdown",
      "source": [
        "# Question 2: What is the Curse of Dimensionality and how does it affect KNN performance?\n",
        "\n",
        "Curse of Dimensionality\n",
        "\n",
        "The “curse of dimensionality” refers to the problems that arise when working with data that has too many features (dimensions).\n",
        "\n",
        "- Effect on KNN\n",
        "\n",
        "Since KNN heavily relies on distance calculations, the curse of dimensionality impacts it badly:\n",
        "\n",
        "Neighbors become less distinguishable\n",
        "\n",
        "In low dimensions (2D or 3D), distances make sense (close points really are close).\n",
        "\n",
        "In high dimensions (100+ features), all points tend to look equally far apart.\n",
        "\n",
        "So, KNN struggles to identify meaningful nearest neighbors.\n",
        "\n",
        "High computational cost\n",
        "\n",
        "Distance must be calculated across all dimensions for every prediction.\n",
        "\n",
        "More dimensions → more calculations → slower performance.\n",
        "\n",
        "Overfitting risk\n",
        "\n",
        "With too many dimensions, KNN may memorize training data and fail to generalize well.\n"
      ],
      "metadata": {
        "id": "mdaHQ2AGTBeP"
      }
    },
    {
      "cell_type": "markdown",
      "source": [
        "# Question 3: What is Principal Component Analysis (PCA)? How is it different from feature selection?\n",
        "\n",
        "Principal Component Analysis (PCA)\n",
        "\n",
        "PCA is a dimensionality reduction technique used to transform a large set of features into a smaller set while keeping most of the original information.\n",
        "\n",
        "| **Aspect**           | **PCA (Feature Extraction)**                                                     | **Feature Selection**                                              |\n",
        "| -------------------- | -------------------------------------------------------------------------------- | ------------------------------------------------------------------ |\n",
        "| **Definition**       | Creates new features (principal components) as combinations of original features | Chooses the most important original features and discards the rest |\n",
        "| **Output**           | Transformed features (not interpretable directly, e.g., PC1, PC2)                | Subset of original features (easy to interpret)                    |\n",
        "| **Approach**         | **Feature extraction** (mathematical transformation)                             | **Feature selection** (ranking or filtering features)              |\n",
        "| **Goal**             | Reduce dimensionality while keeping maximum variance                             | Keep only relevant/important features                              |\n",
        "| **Interpretability** | Harder to interpret (PC1, PC2 don’t have direct meaning)                         | Easier, since original features are retained                       |\n"
      ],
      "metadata": {
        "id": "nf43sAW8TBN-"
      }
    },
    {
      "cell_type": "markdown",
      "source": [
        "# Question 4: What are eigenvalues and eigenvectors in PCA, and why are they important?\n",
        "\n",
        "- igenvalues and Eigenvectors (in PCA)\n",
        "\n",
        "When we apply PCA, we perform linear algebra operations on the covariance matrix of the data.\n",
        "\n",
        "The covariance matrix shows how features vary with each other.\n",
        "\n",
        "To find the \"directions\" of maximum variance, we compute eigenvectors and eigenvalues.\n",
        "\n",
        "- Eigenvectors\n",
        "\n",
        "Eigenvectors represent the directions (axes) of maximum variance in the data.\n",
        "\n",
        "In PCA, each principal component is an eigenvector of the covariance matrix.\n",
        "\n",
        "Example: In 2D data, eigenvectors might be diagonal lines (directions) where the data spreads the most.\n",
        "\n",
        "- Eigenvalues\n",
        "\n",
        "Eigenvalues represent the amount of variance captured by each eigenvector (principal component).\n",
        "\n",
        "Larger eigenvalue → that direction (eigenvector) explains more variance in the data.\n",
        "\n",
        "Example: If eigenvalue of PC1 is 5 and PC2 is 1, then PC1 explains 5 times more variance than PC2.\n",
        "\n",
        "- Why are they important in PCA?\n",
        "\n",
        "Eigenvectors → Principal Components\n",
        "\n",
        "They define the new feature space (the rotated axes where data is projected).\n",
        "\n",
        "Eigenvalues → Variance Explained\n",
        "\n",
        "They tell us how much information (variance) each principal component retains.\n",
        "\n",
        "This helps decide how many components to keep (e.g., 95% variance threshold)."
      ],
      "metadata": {
        "id": "SN1j_IoWTBF5"
      }
    },
    {
      "cell_type": "markdown",
      "source": [
        "# Question 5: How do KNN and PCA complement each other when applied in a single pipeline?\n",
        "\n",
        "- How KNN and PCA Complement Each Other\n",
        "\n",
        "Problem with KNN\n",
        "\n",
        "KNN relies on distance metrics (Euclidean, Manhattan, etc.).\n",
        "\n",
        "In high dimensions, distances become less meaningful (curse of dimensionality).\n",
        "\n",
        "Result → KNN performance drops.\n",
        "\n",
        "Role of PCA\n",
        "\n",
        "PCA reduces dimensionality by keeping only the components that capture the most variance.\n",
        "\n",
        "Removes noise and redundant features.\n",
        "\n",
        "Creates a compact feature space where distances are more meaningful.\n",
        "\n",
        "KNN after PCA\n",
        "\n",
        "With fewer, informative dimensions → distance calculations are more reliable.\n",
        "\n",
        "KNN runs faster (less computation).\n",
        "\n",
        "Often improves accuracy because noisy/irrelevant dimensions are discarded."
      ],
      "metadata": {
        "id": "d9IxbZmlVQrm"
      }
    },
    {
      "cell_type": "code",
      "execution_count": 1,
      "metadata": {
        "colab": {
          "base_uri": "https://localhost:8080/",
          "height": 600
        },
        "id": "5zffw3ScS6UI",
        "outputId": "99325cac-7fc1-41d3-d5f8-80497a580a9f"
      },
      "outputs": [
        {
          "output_type": "stream",
          "name": "stdout",
          "text": [
            "Explained variance ratio: [0.36198848 0.1920749 ]\n",
            "KNN Accuracy with PCA (2 components): 1.0\n"
          ]
        },
        {
          "output_type": "display_data",
          "data": {
            "text/plain": [
              "<Figure size 800x600 with 1 Axes>"
            ],
            "image/png": "[encoded data removed]"
          },
          "metadata": {}
        }
      ],
      "source": [
        "import numpy as np\n",
        "import matplotlib.pyplot as plt\n",
        "from sklearn.datasets import load_wine\n",
        "from sklearn.preprocessing import StandardScaler\n",
        "from sklearn.decomposition import PCA\n",
        "from sklearn.neighbors import KNeighborsClassifier\n",
        "from sklearn.model_selection import train_test_split\n",
        "from sklearn.metrics import accuracy_score\n",
        "\n",
        "# 1. Load dataset\n",
        "wine = load_wine()\n",
        "X, y = wine.data, wine.target\n",
        "\n",
        "# 2. Standardize features\n",
        "scaler = StandardScaler()\n",
        "X_scaled = scaler.fit_transform(X)\n",
        "\n",
        "# 3. Apply PCA (reduce to 2D for visualization, but keep higher for performance)\n",
        "pca = PCA(n_components=2)\n",
        "X_pca = pca.fit_transform(X_scaled)\n",
        "\n",
        "print(\"Explained variance ratio:\", pca.explained_variance_ratio_)\n",
        "\n",
        "# 4. Train-test split\n",
        "X_train, X_test, y_train, y_test = train_test_split(X_pca, y, test_size=0.2, random_state=42)\n",
        "\n",
        "# 5. Apply KNN\n",
        "knn = KNeighborsClassifier(n_neighbors=5)\n",
        "knn.fit(X_train, y_train)\n",
        "\n",
        "# 6. Predictions & accuracy\n",
        "y_pred = knn.predict(X_test)\n",
        "print(\"KNN Accuracy with PCA (2 components):\", accuracy_score(y_test, y_pred))\n",
        "\n",
        "# 7. Visualization (2D PCA space)\n",
        "plt.figure(figsize=(8,6))\n",
        "for i, target in enumerate(np.unique(y)):\n",
        "    plt.scatter(X_pca[y==target, 0], X_pca[y==target, 1], label=wine.target_names[i])\n",
        "plt.xlabel(\"PC1\")\n",
        "plt.ylabel(\"PC2\")\n",
        "plt.title(\"Wine Dataset (PCA 2D Projection)\")\n",
        "plt.legend()\n",
        "plt.show()\n"
      ]
    },
    {
      "cell_type": "markdown",
      "source": [
        "# Question 6: Train a KNN Classifier on the Wine dataset with and without feature scaling. Compare model accuracy in both cases.\n",
        "\n",
        "\n"
      ],
      "metadata": {
        "id": "jX1ohxBvlvc1"
      }
    },
    {
      "cell_type": "code",
      "source": [
        "import numpy as np\n",
        "from sklearn.datasets import load_wine\n",
        "from sklearn.model_selection import train_test_split\n",
        "from sklearn.neighbors import KNeighborsClassifier\n",
        "from sklearn.preprocessing import StandardScaler\n",
        "from sklearn.metrics import accuracy_score\n",
        "\n",
        "# 1. Load dataset\n",
        "wine = load_wine()\n",
        "X, y = wine.data, wine.target\n",
        "\n",
        "# 2. Train-test split\n",
        "X_train, X_test, y_train, y_test = train_test_split(X, y, test_size=0.2, random_state=42)\n",
        "\n",
        "# ---------------- Without Scaling ----------------\n",
        "knn_no_scaling = KNeighborsClassifier(n_neighbors=5)\n",
        "knn_no_scaling.fit(X_train, y_train)\n",
        "y_pred_no_scaling = knn_no_scaling.predict(X_test)\n",
        "acc_no_scaling = accuracy_score(y_test, y_pred_no_scaling)\n",
        "\n",
        "# ---------------- With Scaling ----------------\n",
        "scaler = StandardScaler()\n",
        "X_train_scaled = scaler.fit_transform(X_train)\n",
        "X_test_scaled = scaler.transform(X_test)\n",
        "\n",
        "knn_scaling = KNeighborsClassifier(n_neighbors=5)\n",
        "knn_scaling.fit(X_train_scaled, y_train)\n",
        "y_pred_scaling = knn_scaling.predict(X_test_scaled)\n",
        "acc_scaling = accuracy_score(y_test, y_pred_scaling)\n",
        "\n",
        "# Print results\n",
        "print(\"Accuracy without scaling:\", acc_no_scaling)\n",
        "print(\"Accuracy with scaling:\", acc_scaling)\n"
      ],
      "metadata": {
        "colab": {
          "base_uri": "https://localhost:8080/"
        },
        "id": "TjaD1Q6MlnRk",
        "outputId": "d056155c-5404-4e17-8313-37a531f98589"
      },
      "execution_count": 2,
      "outputs": [
        {
          "output_type": "stream",
          "name": "stdout",
          "text": [
            "Accuracy without scaling: 0.7222222222222222\n",
            "Accuracy with scaling: 0.9444444444444444\n"
          ]
        }
      ]
    },
    {
      "cell_type": "markdown",
      "source": [
        "# Question 7: Train a PCA model on the Wine dataset and print the explained variance ratio of each principal component."
      ],
      "metadata": {
        "id": "mvscmYmrmCiq"
      }
    },
    {
      "cell_type": "code",
      "source": [
        "import numpy as np\n",
        "from sklearn.datasets import load_wine\n",
        "from sklearn.preprocessing import StandardScaler\n",
        "from sklearn.decomposition import PCA\n",
        "\n",
        "# 1. Load dataset\n",
        "wine = load_wine()\n",
        "X, y = wine.data, wine.target\n",
        "\n",
        "# 2. Standardize features\n",
        "scaler = StandardScaler()\n",
        "X_scaled = scaler.fit_transform(X)\n",
        "\n",
        "# 3. Apply PCA (keep all components)\n",
        "pca = PCA(n_components=X.shape[1])  # 13 components\n",
        "pca.fit(X_scaled)\n",
        "\n",
        "# 4. Print explained variance ratio\n",
        "explained_variance = pca.explained_variance_ratio_\n",
        "\n",
        "print(\"Explained Variance Ratio for each component:\")\n",
        "for i, ratio in enumerate(explained_variance, 1):\n",
        "    print(f\"PC{i}: {ratio:.4f}\")\n",
        "\n",
        "print(\"\\nTotal variance explained:\", explained_variance.sum())\n"
      ],
      "metadata": {
        "colab": {
          "base_uri": "https://localhost:8080/"
        },
        "id": "yqC0JOqBmAT1",
        "outputId": "5e57ee8e-9928-4bed-f2a6-6c201aba437e"
      },
      "execution_count": 3,
      "outputs": [
        {
          "output_type": "stream",
          "name": "stdout",
          "text": [
            "Explained Variance Ratio for each component:\n",
            "PC1: 0.3620\n",
            "PC2: 0.1921\n",
            "PC3: 0.1112\n",
            "PC4: 0.0707\n",
            "PC5: 0.0656\n",
            "PC6: 0.0494\n",
            "PC7: 0.0424\n",
            "PC8: 0.0268\n",
            "PC9: 0.0222\n",
            "PC10: 0.0193\n",
            "PC11: 0.0174\n",
            "PC12: 0.0130\n",
            "PC13: 0.0080\n",
            "\n",
            "Total variance explained: 1.0\n"
          ]
        }
      ]
    },
    {
      "cell_type": "markdown",
      "source": [
        "Question 8: Train a KNN Classifier on the PCA-transformed dataset (retain top 2\n",
        "components). Compare the accuracy with the original dataset.\n"
      ],
      "metadata": {
        "id": "oTamf1kwmPPj"
      }
    },
    {
      "cell_type": "code",
      "source": [
        "import numpy as np\n",
        "from sklearn.datasets import load_wine\n",
        "from sklearn.model_selection import train_test_split\n",
        "from sklearn.neighbors import KNeighborsClassifier\n",
        "from sklearn.preprocessing import StandardScaler\n",
        "from sklearn.decomposition import PCA\n",
        "from sklearn.metrics import accuracy_score\n",
        "\n",
        "# 1. Load dataset\n",
        "wine = load_wine()\n",
        "X, y = wine.data, wine.target\n",
        "\n",
        "# 2. Standardize features\n",
        "scaler = StandardScaler()\n",
        "X_scaled = scaler.fit_transform(X)\n",
        "\n",
        "# 3. Train-test split\n",
        "X_train, X_test, y_train, y_test = train_test_split(\n",
        "    X_scaled, y, test_size=0.2, random_state=42\n",
        ")\n",
        "\n",
        "# ---------------- KNN on Original Data ----------------\n",
        "knn_original = KNeighborsClassifier(n_neighbors=5)\n",
        "knn_original.fit(X_train, y_train)\n",
        "y_pred_original = knn_original.predict(X_test)\n",
        "acc_original = accuracy_score(y_test, y_pred_original)\n",
        "\n",
        "# ---------------- PCA Transformation ----------------\n",
        "pca = PCA(n_components=2)   # keep top 2 components\n",
        "X_pca = pca.fit_transform(X_scaled)\n",
        "\n",
        "# Split PCA dataset\n",
        "X_train_pca, X_test_pca, y_train_pca, y_test_pca = train_test_split(\n",
        "    X_pca, y, test_size=0.2, random_state=42\n",
        ")\n",
        "\n",
        "# ---------------- KNN on PCA Data ----------------\n",
        "knn_pca = KNeighborsClassifier(n_neighbors=5)\n",
        "knn_pca.fit(X_train_pca, y_train_pca)\n",
        "y_pred_pca = knn_pca.predict(X_test_pca)\n",
        "acc_pca = accuracy_score(y_test_pca, y_pred_pca)\n",
        "\n",
        "# Print results\n",
        "print(\"Accuracy with Original Data:\", acc_original)\n",
        "print(\"Accuracy with PCA Data:\", acc_pca)\n"
      ],
      "metadata": {
        "colab": {
          "base_uri": "https://localhost:8080/"
        },
        "id": "Bm8qHvlomNtN",
        "outputId": "e7944080-6eda-4f3d-ac9e-1eb0e5eee964"
      },
      "execution_count": 5,
      "outputs": [
        {
          "output_type": "stream",
          "name": "stdout",
          "text": [
            "Accuracy with Original Data: 0.9444444444444444\n",
            "Accuracy with PCA Data: 1.0\n"
          ]
        }
      ]
    },
    {
      "cell_type": "markdown",
      "source": [
        "# Question 9: Train a KNN Classifier with different distance metrics (euclidean,manhattan) on the scaled Wine dataset and compare the results.\n",
        "\n"
      ],
      "metadata": {
        "id": "-rzXt-APmmSs"
      }
    },
    {
      "cell_type": "code",
      "source": [
        "import numpy as np\n",
        "from sklearn.datasets import load_wine\n",
        "from sklearn.model_selection import train_test_split\n",
        "from sklearn.neighbors import KNeighborsClassifier\n",
        "from sklearn.preprocessing import StandardScaler\n",
        "from sklearn.metrics import accuracy_score\n",
        "\n",
        "# 1. Load dataset\n",
        "wine = load_wine()\n",
        "X, y = wine.data, wine.target\n",
        "\n",
        "# 2. Standardize features\n",
        "scaler = StandardScaler()\n",
        "X_scaled = scaler.fit_transform(X)\n",
        "\n",
        "# 3. Train-test split\n",
        "X_train, X_test, y_train, y_test = train_test_split(\n",
        "    X_scaled, y, test_size=0.2, random_state=42\n",
        ")\n",
        "\n",
        "# ---------------- KNN with Euclidean distance ----------------\n",
        "knn_euclidean = KNeighborsClassifier(n_neighbors=5, metric=\"euclidean\")\n",
        "knn_euclidean.fit(X_train, y_train)\n",
        "y_pred_euclidean = knn_euclidean.predict(X_test)\n",
        "acc_euclidean = accuracy_score(y_test, y_pred_euclidean)\n",
        "\n",
        "# ---------------- KNN with Manhattan distance ----------------\n",
        "knn_manhattan = KNeighborsClassifier(n_neighbors=5, metric=\"manhattan\")\n",
        "knn_manhattan.fit(X_train, y_train)\n",
        "y_pred_manhattan = knn_manhattan.predict(X_test)\n",
        "acc_manhattan = accuracy_score(y_test, y_pred_manhattan)\n",
        "\n",
        "# ---------------- Results ----------------\n",
        "print(\"KNN Accuracy (Euclidean distance):\", acc_euclidean)\n",
        "print(\"KNN Accuracy (Manhattan distance):\", acc_manhattan)\n"
      ],
      "metadata": {
        "colab": {
          "base_uri": "https://localhost:8080/"
        },
        "id": "rlQrgRJWmYit",
        "outputId": "c42ff28f-8790-426f-e206-c3f5a514db57"
      },
      "execution_count": 6,
      "outputs": [
        {
          "output_type": "stream",
          "name": "stdout",
          "text": [
            "KNN Accuracy (Euclidean distance): 0.9444444444444444\n",
            "KNN Accuracy (Manhattan distance): 0.9444444444444444\n"
          ]
        }
      ]
    },
    {
      "cell_type": "markdown",
      "source": [
        "# Question 10: You are working with a high-dimensional gene expression dataset to classify patients with different types of cancer. Due to the large number of features and a small number of samples, traditional models overfit.\n",
        "# Explain how you would:\n",
        "# ● Use PCA to reduce dimensionality\n",
        "# ● Decide how many components to keep\n",
        "# ● Use KNN for classification post-dimensionality reduction\n",
        "# ● Evaluate the model\n",
        "# ● Justify this pipeline to your stakeholders as a robust solution for real-world  biomedical data\n",
        "\n",
        "\n",
        "1. Using PCA to Reduce Dimensionality\n",
        "\n",
        "Gene expression data is very high-dimensional and noisy.\n",
        "\n",
        "Many genes are correlated or irrelevant to cancer classification.\n",
        "\n",
        "Apply PCA after feature scaling (e.g., StandardScaler).\n",
        "\n",
        "PCA will create new features (principal components) that capture the most variance in the data while discarding noise.\n",
        "\n",
        "👉 This reduces redundancy, removes noise, and makes distances more meaningful for KNN.\n",
        "\n",
        "2. Deciding How Many Components to Keep\n",
        "\n",
        "Compute explained variance ratio of each principal component.\n",
        "\n",
        "Create a scree plot (variance explained vs component number).\n",
        "\n",
        "Keep enough components to explain ~90–95% of variance.\n",
        "\n",
        "This balances information retention vs dimensionality reduction.\n",
        "\n",
        "👉 For example, reduce from 20,000 genes → 50–100 principal components.\n",
        "\n",
        "3. Using KNN for Classification\n",
        "\n",
        "Apply KNN on PCA-transformed data.\n",
        "\n",
        "Reason:\n",
        "\n",
        "KNN works well in low dimensions but fails in very high dimensions (curse of dimensionality).\n",
        "\n",
        "After PCA, distances between patients are more reliable.\n",
        "\n",
        "Hyperparameters to tune:\n",
        "\n",
        "Number of neighbors k.\n",
        "\n",
        "Distance metric (Euclidean, Manhattan).\n",
        "\n",
        "Weighting scheme (uniform vs distance-based).\n",
        "\n",
        "4. Evaluating the Model\n",
        "\n",
        "Use Stratified k-Fold Cross Validation due to small sample size (ensures class balance).\n",
        "\n",
        "Evaluate with metrics like:\n",
        "\n",
        "Accuracy (overall correctness).\n",
        "\n",
        "Precision, Recall, F1-score (important for imbalanced classes).\n",
        "\n",
        "Confusion Matrix (per-class performance).\n",
        "\n",
        "If sample size is very small → consider Leave-One-Out Cross Validation (LOOCV).\n",
        "\n",
        "5. Justifying the Pipeline to Stakeholders\n",
        "\n",
        "When explaining to biomedical researchers or clinicians:\n",
        "\n",
        "PCA:\n",
        "\n",
        "“We reduce tens of thousands of noisy gene features into a smaller set of meaningful patterns (components). These capture the strongest biological signals without overfitting.”\n",
        "\n",
        "KNN:\n",
        "\n",
        "“We classify new patients by comparing them to the most similar past patients. This makes the model intuitive and interpretable for clinicians.”\n",
        "\n",
        "Robustness:\n",
        "\n",
        "“Cross-validation ensures the model is not just memorizing but can generalize to new patients.”\n",
        "\n",
        "“Dimensionality reduction + KNN gives a balance between accuracy, simplicity, and interpretability, which is critical for biomedical applications.”"
      ],
      "metadata": {
        "id": "LGrmXEX8m6x4"
      }
    },
    {
      "cell_type": "code",
      "source": [
        "from sklearn.datasets import load_breast_cancer\n",
        "import pandas as pd\n",
        "\n",
        "# Load dataset\n",
        "cancer = load_breast_cancer()\n",
        "\n",
        "# Convert to DataFrame\n",
        "df = pd.DataFrame(cancer.data, columns=cancer.feature_names)\n",
        "df['target'] = cancer.target\n",
        "\n",
        "print(df.head())\n",
        "print(\"\\nTarget names:\", cancer.target_names)\n"
      ],
      "metadata": {
        "colab": {
          "base_uri": "https://localhost:8080/"
        },
        "id": "JcVD62Eam5fl",
        "outputId": "170354c1-e0af-47e7-dd60-f8f27e8918d3"
      },
      "execution_count": 7,
      "outputs": [
        {
          "output_type": "stream",
          "name": "stdout",
          "text": [
            "   mean radius  mean texture  mean perimeter  mean area  mean smoothness  \\\n",
            "0        17.99         10.38          122.80     1001.0          0.11840   \n",
            "1        20.57         17.77          132.90     1326.0          0.08474   \n",
            "2        19.69         21.25          130.00     1203.0          0.10960   \n",
            "3        11.42         20.38           77.58      386.1          0.14250   \n",
            "4        20.29         14.34          135.10     1297.0          0.10030   \n",
            "\n",
            "   mean compactness  mean concavity  mean concave points  mean symmetry  \\\n",
            "0           0.27760          0.3001              0.14710         0.2419   \n",
            "1           0.07864          0.0869              0.07017         0.1812   \n",
            "2           0.15990          0.1974              0.12790         0.2069   \n",
            "3           0.28390          0.2414              0.10520         0.2597   \n",
            "4           0.13280          0.1980              0.10430         0.1809   \n",
            "\n",
            "   mean fractal dimension  ...  worst texture  worst perimeter  worst area  \\\n",
            "0                 0.07871  ...          17.33           184.60      2019.0   \n",
            "1                 0.05667  ...          23.41           158.80      1956.0   \n",
            "2                 0.05999  ...          25.53           152.50      1709.0   \n",
            "3                 0.09744  ...          26.50            98.87       567.7   \n",
            "4                 0.05883  ...          16.67           152.20      1575.0   \n",
            "\n",
            "   worst smoothness  worst compactness  worst concavity  worst concave points  \\\n",
            "0            0.1622             0.6656           0.7119                0.2654   \n",
            "1            0.1238             0.1866           0.2416                0.1860   \n",
            "2            0.1444             0.4245           0.4504                0.2430   \n",
            "3            0.2098             0.8663           0.6869                0.2575   \n",
            "4            0.1374             0.2050           0.4000                0.1625   \n",
            "\n",
            "   worst symmetry  worst fractal dimension  target  \n",
            "0          0.4601                  0.11890       0  \n",
            "1          0.2750                  0.08902       0  \n",
            "2          0.3613                  0.08758       0  \n",
            "3          0.6638                  0.17300       0  \n",
            "4          0.2364                  0.07678       0  \n",
            "\n",
            "[5 rows x 31 columns]\n",
            "\n",
            "Target names: ['malignant' 'benign']\n"
          ]
        }
      ]
    }
  ]
}